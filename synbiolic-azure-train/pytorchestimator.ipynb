{
 "cells": [
  {
   "cell_type": "code",
   "execution_count": 34,
   "metadata": {},
   "outputs": [],
   "source": [
    "import os\n",
    "import shutil\n",
    "\n",
    "from azureml.core.workspace import Workspace\n",
    "from azureml.core import Experiment\n",
    "from azureml.core.environment import Environment\n",
    "from azureml.train.automl.run import AutoMLRun as run\n",
    "from azureml.core.model import Model\n",
    "\n",
    "from azureml.core.compute import ComputeTarget, AmlCompute\n",
    "from azureml.core.compute_target import ComputeTargetException\n",
    "from azureml.core.conda_dependencies import CondaDependencies\n",
    "from azureml.train.dnn import PyTorch"
   ]
  },
  {
   "cell_type": "code",
   "execution_count": 8,
   "metadata": {},
   "outputs": [],
   "source": [
    "ws = Workspace.from_config(path=\"./config.json\")"
   ]
  },
  {
   "cell_type": "code",
   "execution_count": 20,
   "metadata": {},
   "outputs": [
    {
     "name": "stdout",
     "output_type": "stream",
     "text": [
      "/mnt/batch/tasks/shared/LS_root/mounts/clusters/cheapcheap/code/users/aryanmisra\n",
      "condadep.yml\t     Descriptors.ipynb\t     stable-req.txt\n",
      "config.json\t     docker-env.ipynb\t     synbiolic-azure-train\n",
      "trainer.ipynb  pytenv\t\t     test1\n",
      "trainer_test.ipynb   pytorchestimator.ipynb  test101\n",
      "data\t\t     rdkit_testing_ground    trainer.ipynb\n",
      "deploy.ipynb\t     score11.ipynb\t     train-main\n"
     ]
    }
   ],
   "source": [
    "!pwd\n",
    "!ls"
   ]
  },
  {
   "cell_type": "code",
   "execution_count": 9,
   "metadata": {},
   "outputs": [
    {
     "name": "stdout",
     "output_type": "stream",
     "text": [
      "Found existing compute target: AmlCompute(workspace=Workspace.create(name='ml-main', subscription_id='f1be6293-6d1c-4e77-bb06-b2083e9aeb20', resource_group='synbiolic-main'), name=gpu-compute, id=/subscriptions/f1be6293-6d1c-4e77-bb06-b2083e9aeb20/resourceGroups/synbiolic-main/providers/Microsoft.MachineLearningServices/workspaces/ml-main/computes/gpu-compute, type=AmlCompute, provisioning_state=Succeeded, location=eastus, tags=None)\n"
     ]
    }
   ],
   "source": [
    "project_folder = './train-main'\n",
    "experiment_name = 'synbio7'\n",
    "experiment = Experiment(ws, name=experiment_name)\n",
    "cluster_name = \"gpu-compute\"\n",
    "compute_target = ComputeTarget(workspace=ws, name=cluster_name)\n",
    "print(f'Found existing compute target: {compute_target}')"
   ]
  },
  {
   "cell_type": "code",
   "execution_count": 10,
   "metadata": {},
   "outputs": [],
   "source": [
    "pytenv = Environment(name=\"pytenv\")\n",
    "conda_dep = CondaDependencies().create(python_version='3.6')\n",
    "# conda_dep.add_pip_package(\"olefile==0.4.6\") #add this first\n",
    "conda_dep.add_channel('deepchem')\n",
    "conda_dep.add_channel('omnia')\n",
    "conda_dep.add_channel('conda-forge')\n",
    "conda_dep.add_channel('rdkit')\n",
    "# conda_dep.add_channel('pytorch')\n",
    "conda_dep.add_conda_package(\"deepchem-gpu=2.1.0\")\n",
    "conda_dep.add_pip_package(\"azureml-defaults\")\n",
    "# conda_dep.add_conda_package(\"astor\")\n",
    "conda_dep.add_conda_package(\"torchvision\")\n",
    "conda_dep.add_conda_package(\"pytorch\")\n",
    "# conda_dep.add_conda_package(\"cudatoolkit=10.1\")\n",
    "# conda_dep.add_pip_package(\"astor==0.8.1\")\n",
    "# conda_dep.add_conda_package(\"olefile==0.46\")\n",
    "conda_dep.save(path=\"./train-main/condadep.yml\")\n",
    "pytenv.python.conda_dependencies=conda_dep"
   ]
  },
  {
   "cell_type": "code",
   "execution_count": 11,
   "metadata": {},
   "outputs": [
    {
     "name": "stderr",
     "output_type": "stream",
     "text": [
      "WARNING - If environment_definition or conda_dependencies_file is specified, Azure ML will not install any framework related packages on behalf of the user.\n",
      "WARNING - framework_version is not specified, defaulting to version 1.3.\n"
     ]
    }
   ],
   "source": [
    "estimator = PyTorch(source_directory=project_folder, \n",
    "                    compute_target=compute_target,\n",
    "                    entry_script='train.py',\n",
    "                    use_gpu=True,\n",
    "                    conda_dependencies_file=\"./condadep.yml\")"
   ]
  },
  {
   "cell_type": "code",
   "execution_count": null,
   "metadata": {},
   "outputs": [
    {
     "name": "stdout",
     "output_type": "stream",
     "text": [
      "Registering model model_deploy_synbiolic\n",
      "RunId: synbio7_1584503691_07e403e8\n",
      "Web View: https://ml.azure.com/experiments/synbio7/runs/synbio7_1584503691_07e403e8?wsid=/subscriptions/f1be6293-6d1c-4e77-bb06-b2083e9aeb20/resourcegroups/synbiolic-main/workspaces/ml-main\n",
      "\n",
      "Streaming azureml-logs/20_image_build_log.txt\n",
      "=============================================\n",
      "\n",
      "2020/03/18 03:55:22 Downloading source code...\n",
      "2020/03/18 03:55:23 Finished downloading source code\n",
      "2020/03/18 03:55:24 Creating Docker network: acb_default_network, driver: 'bridge'\n",
      "2020/03/18 03:55:24 Successfully set up Docker network: acb_default_network\n",
      "2020/03/18 03:55:24 Setting up Docker configuration...\n",
      "2020/03/18 03:55:25 Successfully set up Docker configuration\n",
      "2020/03/18 03:55:25 Logging in to registry: mlmain2c9169d7.azurecr.io\n",
      "2020/03/18 03:55:26 Successfully logged into mlmain2c9169d7.azurecr.io\n",
      "2020/03/18 03:55:26 Executing step ID: acb_step_0. Timeout(sec): 5400, Working directory: '', Network: 'acb_default_network'\n",
      "2020/03/18 03:55:26 Scanning for dependencies...\n",
      "2020/03/18 03:55:27 Successfully scanned dependencies\n",
      "2020/03/18 03:55:27 Launching container with name: acb_step_0\n",
      "Sending build context to Docker daemon  60.93kB\n",
      "\n",
      "Step 1/14 : FROM mcr.microsoft.com/azureml/base-gpu:openmpi3.1.2-cuda10.1-cudnn7-ubuntu18.04@sha256:2f1cec174e03a0fe1ed23d5bfa5dca27388361fc7d8205d2dfe55ff46c1a3ed6\n",
      "sha256:2f1cec174e03a0fe1ed23d5bfa5dca27388361fc7d8205d2dfe55ff46c1a3ed6: Pulling from azureml/base-gpu\n",
      "7ddbc47eeb70: Pulling fs layer\n",
      "c1bbdc448b72: Pulling fs layer\n",
      "8c3b70e39044: Pulling fs layer\n",
      "45d437916d57: Pulling fs layer\n",
      "d8f1569ddae6: Pulling fs layer\n",
      "85386706b020: Pulling fs layer\n",
      "ee9b457b77d0: Pulling fs layer\n",
      "be4f3343ecd3: Pulling fs layer\n",
      "30b4effda4fd: Pulling fs layer\n",
      "b398e882f414: Pulling fs layer\n",
      "f2e1f2321196: Pulling fs layer\n",
      "1e87b0a17e1a: Pulling fs layer\n",
      "e446a9769f53: Pulling fs layer\n",
      "4493432064f7: Pulling fs layer\n",
      "6aadf6f91a8d: Pulling fs layer\n",
      "66d0708eeaf3: Pulling fs layer\n",
      "5952336ab5bb: Pulling fs layer\n",
      "d8f1569ddae6: Waiting\n",
      "85386706b020: Waiting\n",
      "ee9b457b77d0: Waiting\n",
      "be4f3343ecd3: Waiting\n",
      "30b4effda4fd: Waiting\n",
      "b398e882f414: Waiting\n",
      "f2e1f2321196: Waiting\n",
      "1e87b0a17e1a: Waiting\n",
      "e446a9769f53: Waiting\n",
      "4493432064f7: Waiting\n",
      "6aadf6f91a8d: Waiting\n",
      "66d0708eeaf3: Waiting\n",
      "5952336ab5bb: Waiting\n",
      "45d437916d57: Waiting\n",
      "c1bbdc448b72: Verifying Checksum\n",
      "c1bbdc448b72: Download complete\n",
      "8c3b70e39044: Verifying Checksum\n",
      "8c3b70e39044: Download complete\n",
      "45d437916d57: Verifying Checksum\n",
      "45d437916d57: Download complete\n",
      "d8f1569ddae6: Verifying Checksum\n",
      "d8f1569ddae6: Download complete\n",
      "ee9b457b77d0: Verifying Checksum\n",
      "ee9b457b77d0: Download complete\n",
      "85386706b020: Verifying Checksum\n",
      "85386706b020: Download complete\n",
      "7ddbc47eeb70: Verifying Checksum\n",
      "7ddbc47eeb70: Download complete\n",
      "7ddbc47eeb70: Pull complete\n",
      "c1bbdc448b72: Pull complete\n",
      "8c3b70e39044: Pull complete\n",
      "45d437916d57: Pull complete\n",
      "d8f1569ddae6: Pull complete\n",
      "b398e882f414: Verifying Checksum\n",
      "b398e882f414: Download complete\n",
      "be4f3343ecd3: Verifying Checksum\n",
      "be4f3343ecd3: Download complete\n",
      "85386706b020: Pull complete\n",
      "ee9b457b77d0: Pull complete\n",
      "1e87b0a17e1a: Verifying Checksum\n",
      "1e87b0a17e1a: Download complete\n",
      "e446a9769f53: Verifying Checksum\n",
      "e446a9769f53: Download complete\n",
      "f2e1f2321196: Verifying Checksum\n",
      "f2e1f2321196: Download complete\n",
      "6aadf6f91a8d: Verifying Checksum\n",
      "6aadf6f91a8d: Download complete\n",
      "66d0708eeaf3: Verifying Checksum\n",
      "66d0708eeaf3: Download complete\n",
      "5952336ab5bb: Verifying Checksum\n",
      "5952336ab5bb: Download complete\n",
      "4493432064f7: Verifying Checksum\n",
      "4493432064f7: Download complete\n",
      "30b4effda4fd: Verifying Checksum\n",
      "30b4effda4fd: Download complete\n",
      "\n",
      "be4f3343ecd3: Pull complete\n",
      "\n",
      "30b4effda4fd: Pull complete\n",
      "b398e882f414: Pull complete\n",
      "f2e1f2321196: Pull complete\n",
      "1e87b0a17e1a: Pull complete\n",
      "e446a9769f53: Pull complete\n",
      "4493432064f7: Pull complete\n",
      "6aadf6f91a8d: Pull complete\n",
      "66d0708eeaf3: Pull complete\n",
      "5952336ab5bb: Pull complete\n",
      "Digest: sha256:2f1cec174e03a0fe1ed23d5bfa5dca27388361fc7d8205d2dfe55ff46c1a3ed6\n",
      "Status: Downloaded newer image for mcr.microsoft.com/azureml/base-gpu:openmpi3.1.2-cuda10.1-cudnn7-ubuntu18.04@sha256:2f1cec174e03a0fe1ed23d5bfa5dca27388361fc7d8205d2dfe55ff46c1a3ed6\n",
      " ---> 1aa5c5368838\n",
      "Step 2/14 : USER root\n",
      " ---> Running in b99753ae910c\n",
      "Removing intermediate container b99753ae910c\n",
      " ---> 3685df5b40fa\n",
      "Step 3/14 : RUN mkdir -p $HOME/.cache\n",
      " ---> Running in 962de53af203\n",
      "Removing intermediate container 962de53af203\n",
      " ---> f67dd1f55de4\n",
      "Step 4/14 : WORKDIR /\n",
      " ---> Running in 23b2886a7dae\n",
      "Removing intermediate container 23b2886a7dae\n",
      " ---> 882ada7a79f9\n",
      "Step 5/14 : COPY azureml-environment-setup/99brokenproxy /etc/apt/apt.conf.d/\n",
      " ---> 2ff3622b1dc7\n",
      "Step 6/14 : RUN if dpkg --compare-versions `conda --version | grep -oE '[^ ]+$'` lt 4.4.11; then conda install conda==4.4.11; fi\n",
      " ---> Running in 66fd601dd119\n",
      "Removing intermediate container 66fd601dd119\n",
      " ---> d73c904adafc\n",
      "Step 7/14 : COPY azureml-environment-setup/mutated_conda_dependencies.yml azureml-environment-setup/mutated_conda_dependencies.yml\n",
      " ---> ed83610741d1\n",
      "Step 8/14 : RUN ldconfig /usr/local/cuda/lib64/stubs && conda env create -p /azureml-envs/azureml_f3252546af7d0d56c116f075005d2a2e -f azureml-environment-setup/mutated_conda_dependencies.yml && rm -rf \"$HOME/.cache/pip\" && conda clean -aqy && CONDA_ROOT_DIR=$(conda info --root) && rm -rf \"$CONDA_ROOT_DIR/pkgs\" && find \"$CONDA_ROOT_DIR\" -type d -name __pycache__ -exec rm -rf {} + && ldconfig\n",
      " ---> Running in 22f35b2521f5\n",
      "Solving environment: ...working... \n"
     ]
    }
   ],
   "source": [
    "# model = run.register_model(description = \"model_deploy\", \n",
    "                          # tags={\"area\": \"synbiolic\"},\n",
    "                          # model_path=\"./train-main/outputs/model_deploy.pkl\",\n",
    "                          # model_name=\"model_deploy_synbiolic\")\n",
    "model = Model.register(workspace=ws,\n",
    "                      model_path=\"./train-main/outputs/\",\n",
    "                      model_name=\"model_deploy_synbiolic\", \n",
    "                      description=\"runn\")\n",
    "\n",
    "rrun = experiment.submit(estimator)\n",
    "rrun.wait_for_completion(show_output=True)"
   ]
  },
  {
   "cell_type": "code",
   "execution_count": null,
   "metadata": {},
   "outputs": [],
   "source": []
  }
 ],
 "metadata": {
  "kernelspec": {
   "display_name": "Python 3.6 - AzureML",
   "language": "python",
   "name": "python3-azureml"
  },
  "language_info": {
   "codemirror_mode": {
    "name": "ipython",
    "version": 3
   },
   "file_extension": ".py",
   "mimetype": "text/x-python",
   "name": "python",
   "nbconvert_exporter": "python",
   "pygments_lexer": "ipython3",
   "version": "3.6.9"
  }
 },
 "nbformat": 4,
 "nbformat_minor": 2
}
