{
 "cells": [
  {
   "cell_type": "code",
   "execution_count": 1,
   "metadata": {
    "scrolled": true
   },
   "outputs": [
    {
     "name": "stdout",
     "output_type": "stream",
     "text": [
      "Performing interactive authentication. Please follow the instructions on the terminal.\n",
      "To sign in, use a web browser to open the page https://microsoft.com/devicelogin and enter the code APZSEJ2CY to authenticate.\n",
      "Interactive authentication successfully completed.\n",
      "Environment(Name: AzureML-PyTorch-1.1-GPU,\n",
      "Version: 12)\n"
     ]
    }
   ],
   "source": [
    "import os\n",
    "import shutil\n",
    "\n",
    "from azureml.core.workspace import Workspace\n",
    "from azureml.core.environment import Environment\n",
    "from azureml.core import Experiment, ScriptRunConfig\n",
    "from azureml.train.estimator import Estimator\n",
    "\n",
    "from azureml.core.compute import ComputeTarget, AmlCompute\n",
    "from azureml.core.compute_target import ComputeTargetException\n",
    "from azureml.train.dnn import PyTorch\n",
    "from azureml.core.conda_dependencies import CondaDependencies\n",
    "ws = Workspace.from_config()\n",
    "env = Environment.get(workspace=ws, name=\"AzureML-PyTorch-1.1-GPU\")\n",
    "print(env)"
   ]
  },
  {
   "cell_type": "code",
   "execution_count": 2,
   "metadata": {
    "jupyter": {
     "outputs_hidden": false,
     "source_hidden": false
    },
    "nteract": {
     "transient": {
      "deleting": false
     }
    }
   },
   "outputs": [],
   "source": [
    "project_folder = './train-main'\n",
    "os.makedirs(project_folder, exist_ok=True)\n",
    "\n",
    "experiment_name = 'synbio-train3'\n",
    "experiment = Experiment(name=experiment_name,workspace = ws)"
   ]
  },
  {
   "cell_type": "code",
   "execution_count": 3,
   "metadata": {
    "jupyter": {
     "outputs_hidden": false,
     "source_hidden": false
    },
    "nteract": {
     "transient": {
      "deleting": false
     }
    }
   },
   "outputs": [
    {
     "name": "stdout",
     "output_type": "stream",
     "text": [
      "Found existing compute target\n",
      "AmlCompute(workspace=Workspace.create(name='ml-main', subscription_id='f1be6293-6d1c-4e77-bb06-b2083e9aeb20', resource_group='synbiolic-main'), name=gpu-traindlarge, id=/subscriptions/f1be6293-6d1c-4e77-bb06-b2083e9aeb20/resourceGroups/synbiolic-main/providers/Microsoft.MachineLearningServices/workspaces/ml-main/computes/gpu-traindlarge, type=AmlCompute, provisioning_state=Succeeded, location=eastus, tags=None)\n"
     ]
    }
   ],
   "source": [
    "cluster_name = \"gpu-traindlarge\"\n",
    "\n",
    "try:\n",
    "    compute_target = ComputeTarget(workspace=ws, name=cluster_name)\n",
    "    print('Found existing compute target')\n",
    "    \n",
    "except ComputeTargetException:\n",
    "    print('Compute target not found')\n",
    "\n",
    "print(compute_target)"
   ]
  },
  {
   "cell_type": "code",
   "execution_count": 4,
   "metadata": {
    "jupyter": {
     "outputs_hidden": false,
     "source_hidden": false
    },
    "nteract": {
     "transient": {
      "deleting": false
     }
    }
   },
   "outputs": [],
   "source": [
    "from azureml.core.runconfig import RunConfiguration\n",
    "from azureml.core.conda_dependencies import CondaDependencies\n",
    "from azureml.core.runconfig import DEFAULT_GPU_IMAGE\n",
    "\n",
    "# Create a new runconfig object\n",
    "run_amlcompute = RunConfiguration()\n",
    "\n",
    "# Use the cpu_cluster you created above. \n",
    "run_amlcompute.target = cluster_name\n",
    "\n",
    "# Enable Docker\n",
    "run_amlcompute.environment.docker.enabled = True\n",
    "\n",
    "# Set Docker base image to the default CPU-based image\n",
    "run_amlcompute.environment.docker.base_image = DEFAULT_GPU_IMAGE\n",
    "\n",
    "# Use conda_dependencies.yml to create a conda environment in the Docker image for execution\n",
    "run_amlcompute.environment.python.user_managed_dependencies = False\n",
    "\n",
    "# Specify CondaDependencies obj, add necessary packages\n",
    "run_amlcompute.environment.python.conda_dependencies = CondaDependencies.create(conda_packages=['scikit-learn'])"
   ]
  },
  {
   "cell_type": "code",
   "execution_count": 5,
   "metadata": {
    "jupyter": {
     "outputs_hidden": false,
     "source_hidden": false
    },
    "nteract": {
     "transient": {
      "deleting": false
     }
    }
   },
   "outputs": [
    {
     "name": "stderr",
     "output_type": "stream",
     "text": [
      "WARNING - If environment_definition or conda_dependencies_file_path is specified, Azure ML will not install any framework related packages on behalf of the user.\n",
      "WARNING - 'conda_dependencies_file_path' parameter will be deprecated. Please use 'conda_dependencies_file' instead\n",
      "WARNING - framework_version is not specified, defaulting to version 1.3.\n"
     ]
    }
   ],
   "source": [
    "estimator = PyTorch(source_directory=project_folder,\n",
    "                     compute_target=compute_target,\n",
    "                     conda_dependencies_file_path='export_noversion.yml',\n",
    "                     entry_script='train.py',\n",
    "                     use_gpu=True)"
   ]
  },
  {
   "cell_type": "code",
   "execution_count": 6,
   "metadata": {
    "jupyter": {
     "outputs_hidden": false,
     "source_hidden": false
    },
    "nteract": {
     "transient": {
      "deleting": false
     }
    }
   },
   "outputs": [],
   "source": [
    "run = experiment.submit(estimator)"
   ]
  },
  {
   "cell_type": "code",
   "execution_count": 7,
   "metadata": {
    "jupyter": {
     "outputs_hidden": false,
     "source_hidden": false
    },
    "nteract": {
     "transient": {
      "deleting": false
     }
    },
    "scrolled": true
   },
   "outputs": [
    {
     "name": "stdout",
     "output_type": "stream",
     "text": [
      "RunId: synbio-train3_1583872641_3c5d3e9f\n",
      "Web View: https://ml.azure.com/experiments/synbio-train3/runs/synbio-train3_1583872641_3c5d3e9f?wsid=/subscriptions/f1be6293-6d1c-4e77-bb06-b2083e9aeb20/resourcegroups/synbiolic-main/workspaces/ml-main\n",
      "\n",
      "Streaming azureml-logs/20_image_build_log.txt\n",
      "=============================================\n",
      "\n",
      "2020/03/10 20:37:58 Downloading source code...\n",
      "2020/03/10 20:38:00 Finished downloading source code\n",
      "2020/03/10 20:38:01 Creating Docker network: acb_default_network, driver: 'bridge'\n",
      "2020/03/10 20:38:01 Successfully set up Docker network: acb_default_network\n",
      "2020/03/10 20:38:01 Setting up Docker configuration...\n",
      "2020/03/10 20:38:02 Successfully set up Docker configuration\n",
      "2020/03/10 20:38:02 Logging in to registry: mlmain2c9169d7.azurecr.io\n",
      "2020/03/10 20:38:04 Successfully logged into mlmain2c9169d7.azurecr.io\n",
      "2020/03/10 20:38:04 Executing step ID: acb_step_0. Timeout(sec): 5400, Working directory: '', Network: 'acb_default_network'\n",
      "2020/03/10 20:38:04 Scanning for dependencies...\n",
      "2020/03/10 20:38:07 Successfully scanned dependencies\n",
      "2020/03/10 20:38:07 Launching container with name: acb_step_0\n",
      "Sending build context to Docker daemon     64kB\n",
      "\n",
      "Step 1/14 : FROM mcr.microsoft.com/azureml/base-gpu:openmpi3.1.2-cuda10.1-cudnn7-ubuntu18.04@sha256:2f1cec174e03a0fe1ed23d5bfa5dca27388361fc7d8205d2dfe55ff46c1a3ed6\n",
      "sha256:2f1cec174e03a0fe1ed23d5bfa5dca27388361fc7d8205d2dfe55ff46c1a3ed6: Pulling from azureml/base-gpu\n",
      "7ddbc47eeb70: Pulling fs layer\n",
      "c1bbdc448b72: Pulling fs layer\n",
      "8c3b70e39044: Pulling fs layer\n",
      "45d437916d57: Pulling fs layer\n",
      "d8f1569ddae6: Pulling fs layer\n",
      "85386706b020: Pulling fs layer\n",
      "ee9b457b77d0: Pulling fs layer\n",
      "be4f3343ecd3: Pulling fs layer\n",
      "30b4effda4fd: Pulling fs layer\n",
      "b398e882f414: Pulling fs layer\n",
      "f2e1f2321196: Pulling fs layer\n",
      "1e87b0a17e1a: Pulling fs layer\n",
      "e446a9769f53: Pulling fs layer\n",
      "4493432064f7: Pulling fs layer\n",
      "6aadf6f91a8d: Pulling fs layer\n",
      "66d0708eeaf3: Pulling fs layer\n",
      "5952336ab5bb: Pulling fs layer\n",
      "45d437916d57: Waiting\n",
      "d8f1569ddae6: Waiting\n",
      "85386706b020: Waiting\n",
      "ee9b457b77d0: Waiting\n",
      "be4f3343ecd3: Waiting\n",
      "30b4effda4fd: Waiting\n",
      "b398e882f414: Waiting\n",
      "f2e1f2321196: Waiting\n",
      "1e87b0a17e1a: Waiting\n",
      "e446a9769f53: Waiting\n",
      "4493432064f7: Waiting\n",
      "6aadf6f91a8d: Waiting\n",
      "66d0708eeaf3: Waiting\n",
      "5952336ab5bb: Waiting\n",
      "8c3b70e39044: Verifying Checksum\n",
      "8c3b70e39044: Download complete\n",
      "c1bbdc448b72: Verifying Checksum\n",
      "c1bbdc448b72: Download complete\n",
      "45d437916d57: Verifying Checksum\n",
      "45d437916d57: Download complete\n",
      "d8f1569ddae6: Verifying Checksum\n",
      "d8f1569ddae6: Download complete\n",
      "85386706b020: Verifying Checksum\n",
      "85386706b020: Download complete\n",
      "ee9b457b77d0: Verifying Checksum\n",
      "ee9b457b77d0: Download complete\n",
      "7ddbc47eeb70: Verifying Checksum\n",
      "7ddbc47eeb70: Download complete\n",
      "7ddbc47eeb70: Pull complete\n",
      "c1bbdc448b72: Pull complete\n",
      "8c3b70e39044: Pull complete\n",
      "45d437916d57: Pull complete\n",
      "d8f1569ddae6: Pull complete\n",
      "85386706b020: Pull complete\n",
      "b398e882f414: Verifying Checksum\n",
      "b398e882f414: Download complete\n",
      "ee9b457b77d0: Pull complete\n",
      "f2e1f2321196: Verifying Checksum\n",
      "f2e1f2321196: Download complete\n",
      "1e87b0a17e1a: Verifying Checksum\n",
      "1e87b0a17e1a: Download complete\n",
      "e446a9769f53: Verifying Checksum\n",
      "e446a9769f53: Download complete\n",
      "be4f3343ecd3: Verifying Checksum\n",
      "be4f3343ecd3: Download complete\n",
      "30b4effda4fd: Verifying Checksum\n",
      "30b4effda4fd: Download complete\n",
      "66d0708eeaf3: Verifying Checksum\n",
      "66d0708eeaf3: Download complete\n",
      "6aadf6f91a8d: Verifying Checksum\n",
      "6aadf6f91a8d: Download complete\n",
      "5952336ab5bb: Download complete\n",
      "4493432064f7: Verifying Checksum\n",
      "4493432064f7: Download complete\n",
      "\n",
      "be4f3343ecd3: Pull complete\n",
      "\n",
      "30b4effda4fd: Pull complete\n",
      "b398e882f414: Pull complete\n",
      "f2e1f2321196: Pull complete\n",
      "1e87b0a17e1a: Pull complete\n",
      "e446a9769f53: Pull complete\n",
      "4493432064f7: Pull complete\n",
      "6aadf6f91a8d: Pull complete\n",
      "66d0708eeaf3: Pull complete\n",
      "5952336ab5bb: Pull complete\n",
      "Digest: sha256:2f1cec174e03a0fe1ed23d5bfa5dca27388361fc7d8205d2dfe55ff46c1a3ed6\n",
      "Status: Downloaded newer image for mcr.microsoft.com/azureml/base-gpu:openmpi3.1.2-cuda10.1-cudnn7-ubuntu18.04@sha256:2f1cec174e03a0fe1ed23d5bfa5dca27388361fc7d8205d2dfe55ff46c1a3ed6\n",
      " ---> 1aa5c5368838\n",
      "Step 2/14 : USER root\n",
      " ---> Running in 1f4e5967c6b4\n",
      "Removing intermediate container 1f4e5967c6b4\n",
      " ---> aca73ddaa1b7\n",
      "Step 3/14 : RUN mkdir -p $HOME/.cache\n",
      " ---> Running in aa33900d2610\n",
      "Removing intermediate container aa33900d2610\n",
      " ---> b08ba0db9200\n",
      "Step 4/14 : WORKDIR /\n",
      " ---> Running in ad6b073bfbfd\n",
      "Removing intermediate container ad6b073bfbfd\n",
      " ---> f96f476f6daa\n",
      "Step 5/14 : COPY azureml-environment-setup/99brokenproxy /etc/apt/apt.conf.d/\n",
      " ---> 3805967c41f2\n",
      "Step 6/14 : RUN if dpkg --compare-versions `conda --version | grep -oE '[^ ]+$'` lt 4.4.11; then conda install conda==4.4.11; fi\n",
      " ---> Running in 665aa27aedf0\n",
      "Removing intermediate container 665aa27aedf0\n",
      " ---> ddebebe6506f\n",
      "Step 7/14 : COPY azureml-environment-setup/mutated_conda_dependencies.yml azureml-environment-setup/mutated_conda_dependencies.yml\n",
      " ---> 77e24f77c0a6\n",
      "Step 8/14 : RUN ldconfig /usr/local/cuda/lib64/stubs && conda env create -p /azureml-envs/azureml_226b85706c93f4b2287e019130d08fc6 -f azureml-environment-setup/mutated_conda_dependencies.yml && rm -rf \"$HOME/.cache/pip\" && conda clean -aqy && CONDA_ROOT_DIR=$(conda info --root) && rm -rf \"$CONDA_ROOT_DIR/pkgs\" && find \"$CONDA_ROOT_DIR\" -type d -name __pycache__ -exec rm -rf {} + && ldconfig\n",
      " ---> Running in 60899a4ba683\n",
      "Solving environment: ...working... \n",
      "Run ID: caj timed out after 1h30m0s\n",
      "\n",
      "Execution Summary\n",
      "=================\n",
      "RunId: synbio-train3_1583872641_3c5d3e9f\n",
      "Web View: https://ml.azure.com/experiments/synbio-train3/runs/synbio-train3_1583872641_3c5d3e9f?wsid=/subscriptions/f1be6293-6d1c-4e77-bb06-b2083e9aeb20/resourcegroups/synbiolic-main/workspaces/ml-main\n"
     ]
    },
    {
     "ename": "ActivityFailedException",
     "evalue": "ActivityFailedException:\n\tMessage: Activity Failed:\n{\n    \"error\": {\n        \"code\": \"UserError\",\n        \"message\": \"Image build failed. For more details, check log file azureml-logs/20_image_build_log.txt\",\n        \"details\": []\n    },\n    \"correlation\": {\n        \"operation\": null,\n        \"request\": \"3829006853f6cbe0\"\n    },\n    \"environment\": \"eastus\",\n    \"location\": \"eastus\",\n    \"time\": \"2020-03-10T22:08:16.232375Z\"\n}\n\tInnerException None\n\tErrorResponse \n{\n    \"error\": {\n        \"message\": \"Activity Failed:\\n{\\n    \\\"error\\\": {\\n        \\\"code\\\": \\\"UserError\\\",\\n        \\\"message\\\": \\\"Image build failed. For more details, check log file azureml-logs/20_image_build_log.txt\\\",\\n        \\\"details\\\": []\\n    },\\n    \\\"correlation\\\": {\\n        \\\"operation\\\": null,\\n        \\\"request\\\": \\\"3829006853f6cbe0\\\"\\n    },\\n    \\\"environment\\\": \\\"eastus\\\",\\n    \\\"location\\\": \\\"eastus\\\",\\n    \\\"time\\\": \\\"2020-03-10T22:08:16.232375Z\\\"\\n}\"\n    }\n}",
     "output_type": "error",
     "traceback": [
      "\u001b[0;31m---------------------------------------------------------------------------\u001b[0m",
      "\u001b[0;31mActivityFailedException\u001b[0m                   Traceback (most recent call last)",
      "\u001b[0;32m<ipython-input-7-c525ff7b8c5b>\u001b[0m in \u001b[0;36m<module>\u001b[0;34m\u001b[0m\n\u001b[0;32m----> 1\u001b[0;31m \u001b[0mrun\u001b[0m\u001b[0;34m.\u001b[0m\u001b[0mwait_for_completion\u001b[0m\u001b[0;34m(\u001b[0m\u001b[0mshow_output\u001b[0m\u001b[0;34m=\u001b[0m\u001b[0;32mTrue\u001b[0m\u001b[0;34m)\u001b[0m\u001b[0;34m\u001b[0m\u001b[0;34m\u001b[0m\u001b[0m\n\u001b[0m",
      "\u001b[0;32m/anaconda/envs/azureml_py36/lib/python3.6/site-packages/azureml/core/run.py\u001b[0m in \u001b[0;36mwait_for_completion\u001b[0;34m(self, show_output, wait_post_processing, raise_on_error)\u001b[0m\n\u001b[1;32m    655\u001b[0m                     \u001b[0mfile_handle\u001b[0m\u001b[0;34m=\u001b[0m\u001b[0msys\u001b[0m\u001b[0;34m.\u001b[0m\u001b[0mstdout\u001b[0m\u001b[0;34m,\u001b[0m\u001b[0;34m\u001b[0m\u001b[0;34m\u001b[0m\u001b[0m\n\u001b[1;32m    656\u001b[0m                     \u001b[0mwait_post_processing\u001b[0m\u001b[0;34m=\u001b[0m\u001b[0mwait_post_processing\u001b[0m\u001b[0;34m,\u001b[0m\u001b[0;34m\u001b[0m\u001b[0;34m\u001b[0m\u001b[0m\n\u001b[0;32m--> 657\u001b[0;31m                     raise_on_error=raise_on_error)\n\u001b[0m\u001b[1;32m    658\u001b[0m                 \u001b[0;32mreturn\u001b[0m \u001b[0mself\u001b[0m\u001b[0;34m.\u001b[0m\u001b[0mget_details\u001b[0m\u001b[0;34m(\u001b[0m\u001b[0;34m)\u001b[0m\u001b[0;34m\u001b[0m\u001b[0;34m\u001b[0m\u001b[0m\n\u001b[1;32m    659\u001b[0m             \u001b[0;32mexcept\u001b[0m \u001b[0mKeyboardInterrupt\u001b[0m\u001b[0;34m:\u001b[0m\u001b[0;34m\u001b[0m\u001b[0;34m\u001b[0m\u001b[0m\n",
      "\u001b[0;32m/anaconda/envs/azureml_py36/lib/python3.6/site-packages/azureml/core/run.py\u001b[0m in \u001b[0;36m_stream_run_output\u001b[0;34m(self, file_handle, wait_post_processing, raise_on_error)\u001b[0m\n\u001b[1;32m    894\u001b[0m                 \u001b[0mfile_handle\u001b[0m\u001b[0;34m.\u001b[0m\u001b[0mwrite\u001b[0m\u001b[0;34m(\u001b[0m\u001b[0;34m\"\\n\"\u001b[0m\u001b[0;34m)\u001b[0m\u001b[0;34m\u001b[0m\u001b[0;34m\u001b[0m\u001b[0m\n\u001b[1;32m    895\u001b[0m             \u001b[0;32melse\u001b[0m\u001b[0;34m:\u001b[0m\u001b[0;34m\u001b[0m\u001b[0;34m\u001b[0m\u001b[0m\n\u001b[0;32m--> 896\u001b[0;31m                 \u001b[0;32mraise\u001b[0m \u001b[0mActivityFailedException\u001b[0m\u001b[0;34m(\u001b[0m\u001b[0merror_details\u001b[0m\u001b[0;34m=\u001b[0m\u001b[0mjson\u001b[0m\u001b[0;34m.\u001b[0m\u001b[0mdumps\u001b[0m\u001b[0;34m(\u001b[0m\u001b[0merror\u001b[0m\u001b[0;34m,\u001b[0m \u001b[0mindent\u001b[0m\u001b[0;34m=\u001b[0m\u001b[0;36m4\u001b[0m\u001b[0;34m)\u001b[0m\u001b[0;34m)\u001b[0m\u001b[0;34m\u001b[0m\u001b[0;34m\u001b[0m\u001b[0m\n\u001b[0m\u001b[1;32m    897\u001b[0m \u001b[0;34m\u001b[0m\u001b[0m\n\u001b[1;32m    898\u001b[0m         \u001b[0mfile_handle\u001b[0m\u001b[0;34m.\u001b[0m\u001b[0mwrite\u001b[0m\u001b[0;34m(\u001b[0m\u001b[0;34m\"\\n\"\u001b[0m\u001b[0;34m)\u001b[0m\u001b[0;34m\u001b[0m\u001b[0;34m\u001b[0m\u001b[0m\n",
      "\u001b[0;31mActivityFailedException\u001b[0m: ActivityFailedException:\n\tMessage: Activity Failed:\n{\n    \"error\": {\n        \"code\": \"UserError\",\n        \"message\": \"Image build failed. For more details, check log file azureml-logs/20_image_build_log.txt\",\n        \"details\": []\n    },\n    \"correlation\": {\n        \"operation\": null,\n        \"request\": \"3829006853f6cbe0\"\n    },\n    \"environment\": \"eastus\",\n    \"location\": \"eastus\",\n    \"time\": \"2020-03-10T22:08:16.232375Z\"\n}\n\tInnerException None\n\tErrorResponse \n{\n    \"error\": {\n        \"message\": \"Activity Failed:\\n{\\n    \\\"error\\\": {\\n        \\\"code\\\": \\\"UserError\\\",\\n        \\\"message\\\": \\\"Image build failed. For more details, check log file azureml-logs/20_image_build_log.txt\\\",\\n        \\\"details\\\": []\\n    },\\n    \\\"correlation\\\": {\\n        \\\"operation\\\": null,\\n        \\\"request\\\": \\\"3829006853f6cbe0\\\"\\n    },\\n    \\\"environment\\\": \\\"eastus\\\",\\n    \\\"location\\\": \\\"eastus\\\",\\n    \\\"time\\\": \\\"2020-03-10T22:08:16.232375Z\\\"\\n}\"\n    }\n}"
     ]
    }
   ],
   "source": [
    "run.wait_for_completion(show_output=True)"
   ]
  },
  {
   "cell_type": "code",
   "execution_count": null,
   "metadata": {},
   "outputs": [],
   "source": []
  }
 ],
 "metadata": {
  "kernel_info": {
   "name": "python3"
  },
  "kernelspec": {
   "display_name": "Python 3",
   "language": "python",
   "name": "python3"
  },
  "language_info": {
   "codemirror_mode": {
    "name": "ipython",
    "version": 3
   },
   "file_extension": ".py",
   "mimetype": "text/x-python",
   "name": "python",
   "nbconvert_exporter": "python",
   "pygments_lexer": "ipython3",
   "version": "3.6.9"
  },
  "nteract": {
   "version": "nteract-front-end@1.0.0"
  }
 },
 "nbformat": 4,
 "nbformat_minor": 2
}
