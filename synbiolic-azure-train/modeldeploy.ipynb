{
 "cells": [
  {
   "cell_type": "code",
   "execution_count": 21,
   "metadata": {},
   "outputs": [
    {
     "name": "stdout",
     "output_type": "stream",
     "text": [
      "Azure ML SDK Version:  1.0.85\n"
     ]
    }
   ],
   "source": [
    "import os\n",
    "import shutil\n",
    "\n",
    "from azureml.core.workspace import Workspace\n",
    "from azureml.core import Experiment\n",
    "from azureml.core.environment import Environment\n",
    "from azureml.train.automl.run import AutoMLRun as run\n",
    "from azureml.core.model import Model\n",
    "\n",
    "from azureml.core.compute import ComputeTarget, AmlCompute\n",
    "from azureml.core.compute_target import ComputeTargetException\n",
    "from azureml.core.conda_dependencies import CondaDependencies\n",
    "from azureml.train.dnn import PyTorch\n",
    "\n",
    "print(\"Azure ML SDK Version: \", azureml.core.VERSION)"
   ]
  },
  {
   "cell_type": "code",
   "execution_count": 22,
   "metadata": {},
   "outputs": [
    {
     "data": {
      "text/plain": [
       "os.stat_result(st_mode=33279, st_ino=8441, st_dev=46, st_nlink=1, st_uid=0, st_gid=0, st_size=90602068, st_atime=1584504056, st_mtime=1584504056, st_ctime=1584580293)"
      ]
     },
     "execution_count": 22,
     "metadata": {},
     "output_type": "execute_result"
    }
   ],
   "source": [
    "# ws = Workspace.from_config(path=\"./config.json\")\n",
    "ws = Workspace.from_config()\n",
    "\n",
    "model=Model(ws, \"model_deploy_synbiolic\")\n",
    "model.download(target_dir=os.getcwd(), exist_ok=True)\n",
    "file_path=os.path.join(os.getcwd(), \"modeldir.ckpt\")\n",
    "os.stat(file_path)"
   ]
  },
  {
   "cell_type": "code",
   "execution_count": 3,
   "metadata": {},
   "outputs": [
    {
     "name": "stdout",
     "output_type": "stream",
     "text": [
      "Found existing compute target: AmlCompute(workspace=Workspace.create(name='ml-main', subscription_id='f1be6293-6d1c-4e77-bb06-b2083e9aeb20', resource_group='synbiolic-main'), name=gpu-compute, id=/subscriptions/f1be6293-6d1c-4e77-bb06-b2083e9aeb20/resourceGroups/synbiolic-main/providers/Microsoft.MachineLearningServices/workspaces/ml-main/computes/gpu-compute, type=AmlCompute, provisioning_state=Succeeded, location=eastus, tags=None)\n"
     ]
    }
   ],
   "source": [
    "project_folder = './train-main'\n",
    "experiment_name = 'synbio7'\n",
    "experiment = Experiment(ws, name=experiment_name)\n",
    "cluster_name = \"gpu-compute\"\n",
    "compute_target = ComputeTarget(workspace=ws, name=cluster_name)\n",
    "print(f'Found existing compute target: {compute_target}')"
   ]
  },
  {
   "cell_type": "code",
   "execution_count": 6,
   "metadata": {},
   "outputs": [
    {
     "name": "stdout",
     "output_type": "stream",
     "text": [
      "Registering model model_deploy_synbiolic\n"
     ]
    }
   ],
   "source": [
    "model = Model.register(workspace=ws,\n",
    "                      model_path=\"../train-main/outputs/modeldir.ckpt\",\n",
    "                      model_name=\"model_deploy_synbiolic\", \n",
    "                      description=\"runn\")"
   ]
  },
  {
   "cell_type": "code",
   "execution_count": 7,
   "metadata": {},
   "outputs": [
    {
     "name": "stdout",
     "output_type": "stream",
     "text": [
      "Collecting inference_schema\n",
      "  Downloading https://files.pythonhosted.org/packages/fd/14/8a365563a28a61cbb18a41565eea27c0bacce2eac05b895efb95cb1c7d31/inference_schema-1.0.2-py3-none-any.whl\n",
      "Collecting wrapt==1.11.1 (from inference_schema)\n",
      "  Downloading https://files.pythonhosted.org/packages/67/b2/0f71ca90b0ade7fad27e3d20327c996c6252a2ffe88f50a95bba7434eda9/wrapt-1.11.1.tar.gz\n",
      "Requirement already satisfied: python-dateutil>=2.5.3 in /anaconda/envs/azureml_py36/lib/python3.6/site-packages (from inference_schema) (2.8.0)\n",
      "Requirement already satisfied: pytz>=2017.2 in /anaconda/envs/azureml_py36/lib/python3.6/site-packages (from inference_schema) (2019.3)\n",
      "Requirement already satisfied: six>=1.5 in /anaconda/envs/azureml_py36/lib/python3.6/site-packages (from python-dateutil>=2.5.3->inference_schema) (1.14.0)\n",
      "Building wheels for collected packages: wrapt\n",
      "  Building wheel for wrapt (setup.py) ... \u001b[?25ldone\n",
      "\u001b[?25h  Created wheel for wrapt: filename=wrapt-1.11.1-cp36-cp36m-linux_x86_64.whl size=66568 sha256=2e7c0954ac64f38ca3630a579a9d92769f468d2d42c9a995a88c300151375b91\n",
      "  Stored in directory: /home/azureuser/.cache/pip/wheels/89/67/41/63cbf0f6ac0a6156588b9587be4db5565f8c6d8ccef98202fc\n",
      "Successfully built wrapt\n",
      "\u001b[31mERROR: astroid 2.3.1 has requirement six==1.12, but you'll have six 1.14.0 which is incompatible.\u001b[0m\n",
      "Installing collected packages: wrapt, inference-schema\n",
      "  Found existing installation: wrapt 1.11.2\n",
      "    Uninstalling wrapt-1.11.2:\n",
      "      Successfully uninstalled wrapt-1.11.2\n",
      "Successfully installed inference-schema-1.0.2 wrapt-1.11.1\n"
     ]
    }
   ],
   "source": [
    "!pip install inference_schema"
   ]
  },
  {
   "cell_type": "code",
   "execution_count": 8,
   "metadata": {},
   "outputs": [],
   "source": [
    "from inference_schema.schema_decorators import input_schema, output_schema\n",
    "from inference_schema.parameter_types.standard_py_parameter_type import StandardPythonParameterType\n",
    "import os\n",
    "import numpy as np\n",
    "from sklearn.externals import joblib\n",
    "\n",
    "def init():\n",
    "    global model\n",
    "    model_path = os.path.join(os.getenv(\"AZUREML_MODEL_DIR\"), \"modeldir.ckpt\")\n",
    "    model = joblib.load(model_path)\n",
    "\n",
    "input_sample = 1\n",
    "\n",
    "def run(data):\n",
    "    try:\n",
    "        print(model)\n",
    "        result = model.predict(data)\n",
    "        return result\n",
    "    except Exception as e:\n",
    "        error = str(e)\n",
    "        return error"
   ]
  },
  {
   "cell_type": "code",
   "execution_count": 10,
   "metadata": {},
   "outputs": [
    {
     "name": "stdout",
     "output_type": "stream",
     "text": [
      "<function input_schema.<locals>.decorator_input at 0x7fbb5967c158>\n"
     ]
    }
   ],
   "source": [
    "a = input_schema(\"data\", StandardPythonParameterType(input_sample))\n",
    "print(input_schema(\"data\", StandardPythonParameterType(input_sample)))\n"
   ]
  },
  {
   "cell_type": "code",
   "execution_count": 26,
   "metadata": {},
   "outputs": [
    {
     "name": "stdout",
     "output_type": "stream",
     "text": [
      "condadep.yml\t     Descriptors.ipynb\tpytorchestimator.ipynb\r\n",
      "trainer.ipynb  modeldeploy.ipynb\r\n",
      "trainer_test.ipynb   modeldir.ckpt\r\n"
     ]
    },
    {
     "ename": "ModuleNotFoundError",
     "evalue": "No module named 'utils'",
     "output_type": "error",
     "traceback": [
      "\u001b[0;31m---------------------------------------------------------------------------\u001b[0m",
      "\u001b[0;31mModuleNotFoundError\u001b[0m                       Traceback (most recent call last)",
      "\u001b[0;32m<ipython-input-26-94dc966345cb>\u001b[0m in \u001b[0;36m<module>\u001b[0;34m\u001b[0m\n\u001b[1;32m      1\u001b[0m \u001b[0mget_ipython\u001b[0m\u001b[0;34m(\u001b[0m\u001b[0;34m)\u001b[0m\u001b[0;34m.\u001b[0m\u001b[0msystem\u001b[0m\u001b[0;34m(\u001b[0m\u001b[0;34m'ls'\u001b[0m\u001b[0;34m)\u001b[0m\u001b[0;34m\u001b[0m\u001b[0;34m\u001b[0m\u001b[0m\n\u001b[0;32m----> 2\u001b[0;31m \u001b[0;32mfrom\u001b[0m \u001b[0mutils\u001b[0m\u001b[0;34m.\u001b[0m\u001b[0mpy\u001b[0m \u001b[0;32mimport\u001b[0m \u001b[0mread_smi_file\u001b[0m\u001b[0;34m\u001b[0m\u001b[0;34m\u001b[0m\u001b[0m\n\u001b[0m\u001b[1;32m      3\u001b[0m \u001b[0;34m\u001b[0m\u001b[0m\n\u001b[1;32m      4\u001b[0m \u001b[0mdata_folder\u001b[0m \u001b[0;34m=\u001b[0m \u001b[0mos\u001b[0m\u001b[0;34m.\u001b[0m\u001b[0mpath\u001b[0m\u001b[0;34m.\u001b[0m\u001b[0mjoin\u001b[0m\u001b[0;34m(\u001b[0m\u001b[0mos\u001b[0m\u001b[0;34m.\u001b[0m\u001b[0mgetcwd\u001b[0m\u001b[0;34m(\u001b[0m\u001b[0;34m)\u001b[0m\u001b[0;34m,\u001b[0m \u001b[0;34m\"data\"\u001b[0m\u001b[0;34m)\u001b[0m\u001b[0;34m\u001b[0m\u001b[0;34m\u001b[0m\u001b[0m\n\u001b[1;32m      5\u001b[0m \u001b[0;31m#test =\u001b[0m\u001b[0;34m\u001b[0m\u001b[0;34m\u001b[0m\u001b[0;34m\u001b[0m\u001b[0m\n",
      "\u001b[0;31mModuleNotFoundError\u001b[0m: No module named 'utils'"
     ]
    }
   ],
   "source": [
    "!ls\n",
    "from utils.py import read_smi_file\n",
    "\n",
    "data_folder = os.path.join(os.getcwd(), \"data\")\n",
    "#test = "
   ]
  },
  {
   "cell_type": "code",
   "execution_count": null,
   "metadata": {},
   "outputs": [],
   "source": []
  }
 ],
 "metadata": {
  "kernelspec": {
   "display_name": "Python 3.6 - AzureML",
   "language": "python",
   "name": "python3-azureml"
  },
  "language_info": {
   "codemirror_mode": {
    "name": "ipython",
    "version": 3
   },
   "file_extension": ".py",
   "mimetype": "text/x-python",
   "name": "python",
   "nbconvert_exporter": "python",
   "pygments_lexer": "ipython3",
   "version": "3.6.9"
  }
 },
 "nbformat": 4,
 "nbformat_minor": 2
}
