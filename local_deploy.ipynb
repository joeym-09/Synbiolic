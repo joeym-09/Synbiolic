{
 "cells": [
  {
   "cell_type": "code",
   "execution_count": 1,
   "metadata": {},
   "outputs": [
    {
     "name": "stdout",
     "output_type": "stream",
     "text": [
      "SDK version: 1.0.85\n"
     ]
    }
   ],
   "source": [
    "from azureml.core.model import Model\n",
    "import azureml.core\n",
    "\n",
    "print(\"SDK version:\", azureml.core.VERSION)\n",
    "\n",
    "from azureml.core import Workspace\n",
    "ws = Workspace.from_config()\n",
    "# Tip: When model_path is set to a directory, you can use the child_paths parameter to include\n",
    "#      only some of the files from the directory"
   ]
  },
  {
   "cell_type": "code",
   "execution_count": 2,
   "metadata": {},
   "outputs": [
    {
     "name": "stdout",
     "output_type": "stream",
     "text": [
      "Registering model Gen_Model\n"
     ]
    }
   ],
   "source": [
    "model = Model.register(model_path = \"./deploy_files\",\n",
    "                       model_name = \"Gen_Model\",\n",
    "                       description = \"Generative Model\",\n",
    "                       workspace = ws)"
   ]
  },
  {
   "cell_type": "code",
   "execution_count": 3,
   "metadata": {},
   "outputs": [],
   "source": [
    "from azureml.core.model import InferenceConfig\n",
    "from azureml.core.environment import Environment\n",
    "from azureml.core.conda_dependencies import CondaDependencies\n",
    "\n",
    "# Create the environment\n",
    "myenv = Environment(name=\"myenv\")\n",
    "conda_dep = CondaDependencies()\n",
    "conda_dep.add_pip_package(\"azureml-defaults\")\n",
    "conda_dep.add_pip_package(\"torch\")\n",
    "conda_dep.add_pip_package(\"torchvision\")\n",
    "conda_dep.add_pip_package(\"tqdm\")\n",
    "\n",
    "myenv.python.conda_dependencies=conda_dep\n",
    "\n",
    "inference_config = InferenceConfig(entry_script=\"./score.py\",\n",
    "                                   environment=myenv)"
   ]
  },
  {
   "cell_type": "code",
   "execution_count": 4,
   "metadata": {},
   "outputs": [],
   "source": [
    "from azureml.core.webservice import LocalWebservice\n",
    "\n",
    "deployment_config = LocalWebservice.deploy_configuration()"
   ]
  },
  {
   "cell_type": "code",
   "execution_count": 5,
   "metadata": {},
   "outputs": [
    {
     "name": "stdout",
     "output_type": "stream",
     "text": [
      "Downloading model Gen_Model:15 to /tmp/azureml_jhm3_d1n/Gen_Model/15\n",
      "Generating Docker build context.\n",
      "Package creation Succeeded\n",
      "Logging into Docker registry mlmain2c9169d7.azurecr.io\n",
      "Logging into Docker registry mlmain2c9169d7.azurecr.io\n",
      "Building Docker image from Dockerfile...\n",
      "Step 1/5 : FROM mlmain2c9169d7.azurecr.io/azureml/azureml_e5a5dcda2bf731f7dbecefe9da79ae62\n",
      " ---> b6034b1d6cde\n",
      "Step 2/5 : COPY azureml-app /var/azureml-app\n",
      " ---> 68da28f625e1\n",
      "Step 3/5 : RUN mkdir -p '/var/azureml-app' && echo eyJhY2NvdW50Q29udGV4dCI6eyJzdWJzY3JpcHRpb25JZCI6ImYxYmU2MjkzLTZkMWMtNGU3Ny1iYjA2LWIyMDgzZTlhZWIyMCIsInJlc291cmNlR3JvdXBOYW1lIjoic3luYmlvbGljLW1haW4iLCJhY2NvdW50TmFtZSI6Im1sLW1haW4iLCJ3b3Jrc3BhY2VJZCI6IjNmYTk4NGE2LWU5YTEtNGI0MC05YTYxLTI4Mzc2MzU5NzU5NiJ9LCJtb2RlbHMiOnt9LCJtb2RlbHNJbmZvIjp7fX0= | base64 --decode > /var/azureml-app/model_config_map.json\n",
      " ---> Running in a6b8b875ab12\n",
      " ---> f24ddcbd814b\n",
      "Step 4/5 : RUN mv '/var/azureml-app/tmpc6h1n_34.py' /var/azureml-app/main.py\n",
      " ---> Running in aae31e575b5b\n",
      " ---> a8fa3bc1c558\n",
      "Step 5/5 : CMD [\"runsvdir\",\"/var/runit\"]\n",
      " ---> Running in fad20d2a4b8f\n",
      " ---> 2fa98a433217\n",
      "Successfully built 2fa98a433217\n",
      "Successfully tagged genservice1:latest\n",
      "Container (name:keen_payne, id:8dfba84996d158587774eb93808d75dfb41025baf8c3eff5f16c6f1873b29b05) cannot be killed.\n",
      "Container has been successfully cleaned up.\n",
      "Image sha256:dd4ffe91201fb4743f00eb6915cfa7f4bfe9945281eeff6807007ca0e57e86ba successfully removed.\n",
      "Starting Docker container...\n",
      "Docker container running.\n"
     ]
    }
   ],
   "source": [
    "from azureml.core.model import Model\n",
    "\n",
    "model = Model(ws, name='Gen_Model')\n",
    "service = Model.deploy(ws, 'genservice1', [model], inference_config, deployment_config)"
   ]
  },
  {
   "cell_type": "code",
   "execution_count": 6,
   "metadata": {},
   "outputs": [
    {
     "name": "stdout",
     "output_type": "stream",
     "text": [
      "Checking container health...\n",
      "Local webservice is running at http://localhost:32791\n",
      "running\n",
      "scoring URI: http://localhost:32791/score\n"
     ]
    }
   ],
   "source": [
    "service.wait_for_deployment(True)\n",
    "print(service.state)\n",
    "print(\"scoring URI: \" + service.scoring_uri)"
   ]
  },
  {
   "cell_type": "code",
   "execution_count": null,
   "metadata": {},
   "outputs": [],
   "source": []
  }
 ],
 "metadata": {
  "kernelspec": {
   "display_name": "Python 3.6 - AzureML",
   "language": "python",
   "name": "python3-azureml"
  },
  "language_info": {
   "codemirror_mode": {
    "name": "ipython",
    "version": 3
   },
   "file_extension": ".py",
   "mimetype": "text/x-python",
   "name": "python",
   "nbconvert_exporter": "python",
   "pygments_lexer": "ipython3",
   "version": "3.6.9"
  }
 },
 "nbformat": 4,
 "nbformat_minor": 2
}
